{
  "nbformat": 4,
  "nbformat_minor": 0,
  "metadata": {
    "colab": {
      "provenance": [],
      "authorship_tag": "ABX9TyNC3vXdhw0ILqmNfGu3yBjY",
      "include_colab_link": true
    },
    "kernelspec": {
      "name": "python3",
      "display_name": "Python 3"
    },
    "language_info": {
      "name": "python"
    }
  },
  "cells": [
    {
      "cell_type": "markdown",
      "metadata": {
        "id": "view-in-github",
        "colab_type": "text"
      },
      "source": [
        "<a href=\"https://colab.research.google.com/github/MrA-png/Cluster-Analysis/blob/main/Cluster_Analysis.ipynb\" target=\"_parent\"><img src=\"https://colab.research.google.com/assets/colab-badge.svg\" alt=\"Open In Colab\"/></a>"
      ]
    },
    {
      "cell_type": "code",
      "source": [
        "import pandas as pd\n",
        "from sklearn.cluster import KMeans\n",
        "from sklearn.metrics import silhouette_score\n",
        "import matplotlib.pyplot as plt\n",
        "import numpy as np\n",
        "\n",
        "# 1. dataset -> transaction.csv, dan tampilkan\n",
        "dataset = pd.read_csv('transaction.csv')\n",
        "dataset.head()"
      ],
      "metadata": {
        "colab": {
          "base_uri": "https://localhost:8080/",
          "height": 206
        },
        "id": "3l9TV7XdtzFW",
        "outputId": "366c64fc-1f74-4070-d188-0e931d6e6636"
      },
      "execution_count": 19,
      "outputs": [
        {
          "output_type": "execute_result",
          "data": {
            "text/plain": [
              "   InvoiceNo  StockCode  Qty      InvoiceDate  CustomerID  Country\n",
              "0     537626      22725  830  12/7/2010 14:57       12347  Iceland\n",
              "1     537626      22729  948  12/7/2010 14:57       12347  Iceland\n",
              "2     537626      22195  695  12/7/2010 14:57       12347  Iceland\n",
              "3     542237      22725  636  1/26/2011 14:30       12347  Iceland\n",
              "4     542237      22729  536  1/26/2011 14:30       12347  Iceland"
            ],
            "text/html": [
              "\n",
              "  <div id=\"df-4c1339ba-0de8-445d-8b30-eff2390d8313\" class=\"colab-df-container\">\n",
              "    <div>\n",
              "<style scoped>\n",
              "    .dataframe tbody tr th:only-of-type {\n",
              "        vertical-align: middle;\n",
              "    }\n",
              "\n",
              "    .dataframe tbody tr th {\n",
              "        vertical-align: top;\n",
              "    }\n",
              "\n",
              "    .dataframe thead th {\n",
              "        text-align: right;\n",
              "    }\n",
              "</style>\n",
              "<table border=\"1\" class=\"dataframe\">\n",
              "  <thead>\n",
              "    <tr style=\"text-align: right;\">\n",
              "      <th></th>\n",
              "      <th>InvoiceNo</th>\n",
              "      <th>StockCode</th>\n",
              "      <th>Qty</th>\n",
              "      <th>InvoiceDate</th>\n",
              "      <th>CustomerID</th>\n",
              "      <th>Country</th>\n",
              "    </tr>\n",
              "  </thead>\n",
              "  <tbody>\n",
              "    <tr>\n",
              "      <th>0</th>\n",
              "      <td>537626</td>\n",
              "      <td>22725</td>\n",
              "      <td>830</td>\n",
              "      <td>12/7/2010 14:57</td>\n",
              "      <td>12347</td>\n",
              "      <td>Iceland</td>\n",
              "    </tr>\n",
              "    <tr>\n",
              "      <th>1</th>\n",
              "      <td>537626</td>\n",
              "      <td>22729</td>\n",
              "      <td>948</td>\n",
              "      <td>12/7/2010 14:57</td>\n",
              "      <td>12347</td>\n",
              "      <td>Iceland</td>\n",
              "    </tr>\n",
              "    <tr>\n",
              "      <th>2</th>\n",
              "      <td>537626</td>\n",
              "      <td>22195</td>\n",
              "      <td>695</td>\n",
              "      <td>12/7/2010 14:57</td>\n",
              "      <td>12347</td>\n",
              "      <td>Iceland</td>\n",
              "    </tr>\n",
              "    <tr>\n",
              "      <th>3</th>\n",
              "      <td>542237</td>\n",
              "      <td>22725</td>\n",
              "      <td>636</td>\n",
              "      <td>1/26/2011 14:30</td>\n",
              "      <td>12347</td>\n",
              "      <td>Iceland</td>\n",
              "    </tr>\n",
              "    <tr>\n",
              "      <th>4</th>\n",
              "      <td>542237</td>\n",
              "      <td>22729</td>\n",
              "      <td>536</td>\n",
              "      <td>1/26/2011 14:30</td>\n",
              "      <td>12347</td>\n",
              "      <td>Iceland</td>\n",
              "    </tr>\n",
              "  </tbody>\n",
              "</table>\n",
              "</div>\n",
              "    <div class=\"colab-df-buttons\">\n",
              "\n",
              "  <div class=\"colab-df-container\">\n",
              "    <button class=\"colab-df-convert\" onclick=\"convertToInteractive('df-4c1339ba-0de8-445d-8b30-eff2390d8313')\"\n",
              "            title=\"Convert this dataframe to an interactive table.\"\n",
              "            style=\"display:none;\">\n",
              "\n",
              "  <svg xmlns=\"http://www.w3.org/2000/svg\" height=\"24px\" viewBox=\"0 -960 960 960\">\n",
              "    <path d=\"M120-120v-720h720v720H120Zm60-500h600v-160H180v160Zm220 220h160v-160H400v160Zm0 220h160v-160H400v160ZM180-400h160v-160H180v160Zm440 0h160v-160H620v160ZM180-180h160v-160H180v160Zm440 0h160v-160H620v160Z\"/>\n",
              "  </svg>\n",
              "    </button>\n",
              "\n",
              "  <style>\n",
              "    .colab-df-container {\n",
              "      display:flex;\n",
              "      gap: 12px;\n",
              "    }\n",
              "\n",
              "    .colab-df-convert {\n",
              "      background-color: #E8F0FE;\n",
              "      border: none;\n",
              "      border-radius: 50%;\n",
              "      cursor: pointer;\n",
              "      display: none;\n",
              "      fill: #1967D2;\n",
              "      height: 32px;\n",
              "      padding: 0 0 0 0;\n",
              "      width: 32px;\n",
              "    }\n",
              "\n",
              "    .colab-df-convert:hover {\n",
              "      background-color: #E2EBFA;\n",
              "      box-shadow: 0px 1px 2px rgba(60, 64, 67, 0.3), 0px 1px 3px 1px rgba(60, 64, 67, 0.15);\n",
              "      fill: #174EA6;\n",
              "    }\n",
              "\n",
              "    .colab-df-buttons div {\n",
              "      margin-bottom: 4px;\n",
              "    }\n",
              "\n",
              "    [theme=dark] .colab-df-convert {\n",
              "      background-color: #3B4455;\n",
              "      fill: #D2E3FC;\n",
              "    }\n",
              "\n",
              "    [theme=dark] .colab-df-convert:hover {\n",
              "      background-color: #434B5C;\n",
              "      box-shadow: 0px 1px 3px 1px rgba(0, 0, 0, 0.15);\n",
              "      filter: drop-shadow(0px 1px 2px rgba(0, 0, 0, 0.3));\n",
              "      fill: #FFFFFF;\n",
              "    }\n",
              "  </style>\n",
              "\n",
              "    <script>\n",
              "      const buttonEl =\n",
              "        document.querySelector('#df-4c1339ba-0de8-445d-8b30-eff2390d8313 button.colab-df-convert');\n",
              "      buttonEl.style.display =\n",
              "        google.colab.kernel.accessAllowed ? 'block' : 'none';\n",
              "\n",
              "      async function convertToInteractive(key) {\n",
              "        const element = document.querySelector('#df-4c1339ba-0de8-445d-8b30-eff2390d8313');\n",
              "        const dataTable =\n",
              "          await google.colab.kernel.invokeFunction('convertToInteractive',\n",
              "                                                    [key], {});\n",
              "        if (!dataTable) return;\n",
              "\n",
              "        const docLinkHtml = 'Like what you see? Visit the ' +\n",
              "          '<a target=\"_blank\" href=https://colab.research.google.com/notebooks/data_table.ipynb>data table notebook</a>'\n",
              "          + ' to learn more about interactive tables.';\n",
              "        element.innerHTML = '';\n",
              "        dataTable['output_type'] = 'display_data';\n",
              "        await google.colab.output.renderOutput(dataTable, element);\n",
              "        const docLink = document.createElement('div');\n",
              "        docLink.innerHTML = docLinkHtml;\n",
              "        element.appendChild(docLink);\n",
              "      }\n",
              "    </script>\n",
              "  </div>\n",
              "\n",
              "\n",
              "<div id=\"df-2158d003-cae9-4b60-b87c-ba6ec5fa10b6\">\n",
              "  <button class=\"colab-df-quickchart\" onclick=\"quickchart('df-2158d003-cae9-4b60-b87c-ba6ec5fa10b6')\"\n",
              "            title=\"Suggest charts\"\n",
              "            style=\"display:none;\">\n",
              "\n",
              "<svg xmlns=\"http://www.w3.org/2000/svg\" height=\"24px\"viewBox=\"0 0 24 24\"\n",
              "     width=\"24px\">\n",
              "    <g>\n",
              "        <path d=\"M19 3H5c-1.1 0-2 .9-2 2v14c0 1.1.9 2 2 2h14c1.1 0 2-.9 2-2V5c0-1.1-.9-2-2-2zM9 17H7v-7h2v7zm4 0h-2V7h2v10zm4 0h-2v-4h2v4z\"/>\n",
              "    </g>\n",
              "</svg>\n",
              "  </button>\n",
              "\n",
              "<style>\n",
              "  .colab-df-quickchart {\n",
              "      --bg-color: #E8F0FE;\n",
              "      --fill-color: #1967D2;\n",
              "      --hover-bg-color: #E2EBFA;\n",
              "      --hover-fill-color: #174EA6;\n",
              "      --disabled-fill-color: #AAA;\n",
              "      --disabled-bg-color: #DDD;\n",
              "  }\n",
              "\n",
              "  [theme=dark] .colab-df-quickchart {\n",
              "      --bg-color: #3B4455;\n",
              "      --fill-color: #D2E3FC;\n",
              "      --hover-bg-color: #434B5C;\n",
              "      --hover-fill-color: #FFFFFF;\n",
              "      --disabled-bg-color: #3B4455;\n",
              "      --disabled-fill-color: #666;\n",
              "  }\n",
              "\n",
              "  .colab-df-quickchart {\n",
              "    background-color: var(--bg-color);\n",
              "    border: none;\n",
              "    border-radius: 50%;\n",
              "    cursor: pointer;\n",
              "    display: none;\n",
              "    fill: var(--fill-color);\n",
              "    height: 32px;\n",
              "    padding: 0;\n",
              "    width: 32px;\n",
              "  }\n",
              "\n",
              "  .colab-df-quickchart:hover {\n",
              "    background-color: var(--hover-bg-color);\n",
              "    box-shadow: 0 1px 2px rgba(60, 64, 67, 0.3), 0 1px 3px 1px rgba(60, 64, 67, 0.15);\n",
              "    fill: var(--button-hover-fill-color);\n",
              "  }\n",
              "\n",
              "  .colab-df-quickchart-complete:disabled,\n",
              "  .colab-df-quickchart-complete:disabled:hover {\n",
              "    background-color: var(--disabled-bg-color);\n",
              "    fill: var(--disabled-fill-color);\n",
              "    box-shadow: none;\n",
              "  }\n",
              "\n",
              "  .colab-df-spinner {\n",
              "    border: 2px solid var(--fill-color);\n",
              "    border-color: transparent;\n",
              "    border-bottom-color: var(--fill-color);\n",
              "    animation:\n",
              "      spin 1s steps(1) infinite;\n",
              "  }\n",
              "\n",
              "  @keyframes spin {\n",
              "    0% {\n",
              "      border-color: transparent;\n",
              "      border-bottom-color: var(--fill-color);\n",
              "      border-left-color: var(--fill-color);\n",
              "    }\n",
              "    20% {\n",
              "      border-color: transparent;\n",
              "      border-left-color: var(--fill-color);\n",
              "      border-top-color: var(--fill-color);\n",
              "    }\n",
              "    30% {\n",
              "      border-color: transparent;\n",
              "      border-left-color: var(--fill-color);\n",
              "      border-top-color: var(--fill-color);\n",
              "      border-right-color: var(--fill-color);\n",
              "    }\n",
              "    40% {\n",
              "      border-color: transparent;\n",
              "      border-right-color: var(--fill-color);\n",
              "      border-top-color: var(--fill-color);\n",
              "    }\n",
              "    60% {\n",
              "      border-color: transparent;\n",
              "      border-right-color: var(--fill-color);\n",
              "    }\n",
              "    80% {\n",
              "      border-color: transparent;\n",
              "      border-right-color: var(--fill-color);\n",
              "      border-bottom-color: var(--fill-color);\n",
              "    }\n",
              "    90% {\n",
              "      border-color: transparent;\n",
              "      border-bottom-color: var(--fill-color);\n",
              "    }\n",
              "  }\n",
              "</style>\n",
              "\n",
              "  <script>\n",
              "    async function quickchart(key) {\n",
              "      const quickchartButtonEl =\n",
              "        document.querySelector('#' + key + ' button');\n",
              "      quickchartButtonEl.disabled = true;  // To prevent multiple clicks.\n",
              "      quickchartButtonEl.classList.add('colab-df-spinner');\n",
              "      try {\n",
              "        const charts = await google.colab.kernel.invokeFunction(\n",
              "            'suggestCharts', [key], {});\n",
              "      } catch (error) {\n",
              "        console.error('Error during call to suggestCharts:', error);\n",
              "      }\n",
              "      quickchartButtonEl.classList.remove('colab-df-spinner');\n",
              "      quickchartButtonEl.classList.add('colab-df-quickchart-complete');\n",
              "    }\n",
              "    (() => {\n",
              "      let quickchartButtonEl =\n",
              "        document.querySelector('#df-2158d003-cae9-4b60-b87c-ba6ec5fa10b6 button');\n",
              "      quickchartButtonEl.style.display =\n",
              "        google.colab.kernel.accessAllowed ? 'block' : 'none';\n",
              "    })();\n",
              "  </script>\n",
              "</div>\n",
              "\n",
              "    </div>\n",
              "  </div>\n"
            ],
            "application/vnd.google.colaboratory.intrinsic+json": {
              "type": "dataframe",
              "variable_name": "dataset",
              "summary": "{\n  \"name\": \"dataset\",\n  \"rows\": 10546,\n  \"fields\": [\n    {\n      \"column\": \"InvoiceNo\",\n      \"properties\": {\n        \"dtype\": \"number\",\n        \"std\": 12277,\n        \"min\": 536370,\n        \"max\": 581587,\n        \"num_unique_values\": 1565,\n        \"samples\": [\n          541877,\n          568950,\n          558113\n        ],\n        \"semantic_type\": \"\",\n        \"description\": \"\"\n      }\n    },\n    {\n      \"column\": \"StockCode\",\n      \"properties\": {\n        \"dtype\": \"number\",\n        \"std\": 14953,\n        \"min\": 16161,\n        \"max\": 85053,\n        \"num_unique_values\": 260,\n        \"samples\": [\n          21535,\n          22111,\n          22667\n        ],\n        \"semantic_type\": \"\",\n        \"description\": \"\"\n      }\n    },\n    {\n      \"column\": \"Qty\",\n      \"properties\": {\n        \"dtype\": \"number\",\n        \"std\": 274,\n        \"min\": 50,\n        \"max\": 999,\n        \"num_unique_values\": 950,\n        \"samples\": [\n          342,\n          340,\n          497\n        ],\n        \"semantic_type\": \"\",\n        \"description\": \"\"\n      }\n    },\n    {\n      \"column\": \"InvoiceDate\",\n      \"properties\": {\n        \"dtype\": \"object\",\n        \"num_unique_values\": 1550,\n        \"samples\": [\n          \"10/14/2011 12:28\",\n          \"10/10/2011 12:37\",\n          \"12/20/2010 15:15\"\n        ],\n        \"semantic_type\": \"\",\n        \"description\": \"\"\n      }\n    },\n    {\n      \"column\": \"CustomerID\",\n      \"properties\": {\n        \"dtype\": \"number\",\n        \"std\": 1059,\n        \"min\": 12347,\n        \"max\": 17844,\n        \"num_unique_values\": 392,\n        \"samples\": [\n          12447,\n          12703,\n          12667\n        ],\n        \"semantic_type\": \"\",\n        \"description\": \"\"\n      }\n    },\n    {\n      \"column\": \"Country\",\n      \"properties\": {\n        \"dtype\": \"category\",\n        \"num_unique_values\": 36,\n        \"samples\": [\n          \"Canada\",\n          \"Australia\",\n          \"Netherlands\"\n        ],\n        \"semantic_type\": \"\",\n        \"description\": \"\"\n      }\n    }\n  ]\n}"
            }
          },
          "metadata": {},
          "execution_count": 19
        }
      ]
    },
    {
      "cell_type": "code",
      "source": [
        "# 2. country -> berapa kemunculan tiap negeri pada dataset, dan tampilkan\n",
        "country_counts = dataset['Country'].value_counts()\n",
        "country_counts.head()"
      ],
      "metadata": {
        "colab": {
          "base_uri": "https://localhost:8080/",
          "height": 272
        },
        "id": "7dJdH4-Bt4Tv",
        "outputId": "84e5547f-0e50-47fa-d612-12a98d0c35b5"
      },
      "execution_count": 20,
      "outputs": [
        {
          "output_type": "execute_result",
          "data": {
            "text/plain": [
              "Country\n",
              "Germany        2269\n",
              "France         2109\n",
              "EIRE           1620\n",
              "Netherlands     634\n",
              "Spain           539\n",
              "Name: count, dtype: int64"
            ],
            "text/html": [
              "<div>\n",
              "<style scoped>\n",
              "    .dataframe tbody tr th:only-of-type {\n",
              "        vertical-align: middle;\n",
              "    }\n",
              "\n",
              "    .dataframe tbody tr th {\n",
              "        vertical-align: top;\n",
              "    }\n",
              "\n",
              "    .dataframe thead th {\n",
              "        text-align: right;\n",
              "    }\n",
              "</style>\n",
              "<table border=\"1\" class=\"dataframe\">\n",
              "  <thead>\n",
              "    <tr style=\"text-align: right;\">\n",
              "      <th></th>\n",
              "      <th>count</th>\n",
              "    </tr>\n",
              "    <tr>\n",
              "      <th>Country</th>\n",
              "      <th></th>\n",
              "    </tr>\n",
              "  </thead>\n",
              "  <tbody>\n",
              "    <tr>\n",
              "      <th>Germany</th>\n",
              "      <td>2269</td>\n",
              "    </tr>\n",
              "    <tr>\n",
              "      <th>France</th>\n",
              "      <td>2109</td>\n",
              "    </tr>\n",
              "    <tr>\n",
              "      <th>EIRE</th>\n",
              "      <td>1620</td>\n",
              "    </tr>\n",
              "    <tr>\n",
              "      <th>Netherlands</th>\n",
              "      <td>634</td>\n",
              "    </tr>\n",
              "    <tr>\n",
              "      <th>Spain</th>\n",
              "      <td>539</td>\n",
              "    </tr>\n",
              "  </tbody>\n",
              "</table>\n",
              "</div><br><label><b>dtype:</b> int64</label>"
            ]
          },
          "metadata": {},
          "execution_count": 20
        }
      ]
    },
    {
      "cell_type": "code",
      "source": [
        "# 3. transaksi -> hitunglah banyaknya rata-rata jumlah barang (Qty) per transaksi pada tiap\n",
        "# negara (1 kode InvoiceNo = 1 transaksi)\n",
        "avg_qty_per_transaction = dataset.groupby(['Country', 'InvoiceNo'])['Qty'].sum().groupby('Country').mean()\n",
        "avg_qty_per_transaction.head()"
      ],
      "metadata": {
        "colab": {
          "base_uri": "https://localhost:8080/",
          "height": 272
        },
        "id": "g69NvA54t8VT",
        "outputId": "6e4f1250-2263-4bbe-bc3c-adfe385c0d18"
      },
      "execution_count": 21,
      "outputs": [
        {
          "output_type": "execute_result",
          "data": {
            "text/plain": [
              "Country\n",
              "Australia    4026.295455\n",
              "Austria      3420.250000\n",
              "Bahrain      1470.000000\n",
              "Belgium      3032.714286\n",
              "Brazil       4389.000000\n",
              "Name: Qty, dtype: float64"
            ],
            "text/html": [
              "<div>\n",
              "<style scoped>\n",
              "    .dataframe tbody tr th:only-of-type {\n",
              "        vertical-align: middle;\n",
              "    }\n",
              "\n",
              "    .dataframe tbody tr th {\n",
              "        vertical-align: top;\n",
              "    }\n",
              "\n",
              "    .dataframe thead th {\n",
              "        text-align: right;\n",
              "    }\n",
              "</style>\n",
              "<table border=\"1\" class=\"dataframe\">\n",
              "  <thead>\n",
              "    <tr style=\"text-align: right;\">\n",
              "      <th></th>\n",
              "      <th>Qty</th>\n",
              "    </tr>\n",
              "    <tr>\n",
              "      <th>Country</th>\n",
              "      <th></th>\n",
              "    </tr>\n",
              "  </thead>\n",
              "  <tbody>\n",
              "    <tr>\n",
              "      <th>Australia</th>\n",
              "      <td>4026.295455</td>\n",
              "    </tr>\n",
              "    <tr>\n",
              "      <th>Austria</th>\n",
              "      <td>3420.250000</td>\n",
              "    </tr>\n",
              "    <tr>\n",
              "      <th>Bahrain</th>\n",
              "      <td>1470.000000</td>\n",
              "    </tr>\n",
              "    <tr>\n",
              "      <th>Belgium</th>\n",
              "      <td>3032.714286</td>\n",
              "    </tr>\n",
              "    <tr>\n",
              "      <th>Brazil</th>\n",
              "      <td>4389.000000</td>\n",
              "    </tr>\n",
              "  </tbody>\n",
              "</table>\n",
              "</div><br><label><b>dtype:</b> float64</label>"
            ]
          },
          "metadata": {},
          "execution_count": 21
        }
      ]
    },
    {
      "cell_type": "code",
      "source": [
        "# 4. cluster_i[1-10], cluster_val[1-10] -> lakukan clustering pada transaksi dengan K-Means,\n",
        "# dengan k=3, sebanyak 10 kali. Setiap kali selesai clustering, lakukan cluster analysis dengan\n",
        "# SSE.\n",
        "best_sse = float('inf')\n",
        "best_kmeans = None\n",
        "\n",
        "for i in range(10):\n",
        "    kmeans = KMeans(n_clusters=3, random_state=i)\n",
        "    clusters = kmeans.fit_predict(avg_qty_per_transaction.values.reshape(-1, 1))\n",
        "    sse = kmeans.inertia_  # Sum of Squared Errors (SSE)\n",
        "    print(f\"Iteration {i + 1} - SSE: {sse}\")\n",
        "    if sse < best_sse:\n",
        "        best_sse = sse\n",
        "        best_kmeans = kmeans"
      ],
      "metadata": {
        "colab": {
          "base_uri": "https://localhost:8080/"
        },
        "id": "tYAQorXsuAbi",
        "outputId": "31f94b51-edcb-4f51-dcde-51ab66b83c73"
      },
      "execution_count": 22,
      "outputs": [
        {
          "output_type": "stream",
          "name": "stdout",
          "text": [
            "Iteration 1 - SSE: 13229107.198522324\n",
            "Iteration 2 - SSE: 16420994.708162924\n",
            "Iteration 3 - SSE: 13229107.198522324\n",
            "Iteration 4 - SSE: 16420994.708162924\n",
            "Iteration 5 - SSE: 13229107.198522324\n",
            "Iteration 6 - SSE: 13229107.198522324\n",
            "Iteration 7 - SSE: 13229107.198522324\n",
            "Iteration 8 - SSE: 13229107.198522324\n",
            "Iteration 9 - SSE: 13229107.198522324\n",
            "Iteration 10 - SSE: 16420994.708162924\n"
          ]
        }
      ]
    },
    {
      "cell_type": "code",
      "source": [
        "# 5. cluster -> ambil cluster_i yang mempunyai cluster_val terkecil\n",
        "df_clusters_kmeans = pd.DataFrame({\n",
        "    'Country': avg_qty_per_transaction.index,\n",
        "    'Avg_Qty_Per_Transaction': avg_qty_per_transaction.values,\n",
        "    'Cluster': best_kmeans.labels_\n",
        "})\n",
        "print(\"\\n Cluster hasil KMeans dengan nilai SSE terkecil:\")\n",
        "print(df_clusters_kmeans.head(), \"\\n\")"
      ],
      "metadata": {
        "colab": {
          "base_uri": "https://localhost:8080/"
        },
        "id": "3yZ3pLwOuo5K",
        "outputId": "291bd625-88c4-4daa-bda7-035dd93a68db"
      },
      "execution_count": 23,
      "outputs": [
        {
          "output_type": "stream",
          "name": "stdout",
          "text": [
            "\n",
            " Cluster hasil KMeans dengan nilai SSE terkecil:\n",
            "     Country  Avg_Qty_Per_Transaction  Cluster\n",
            "0  Australia              4026.295455        0\n",
            "1    Austria              3420.250000        0\n",
            "2    Bahrain              1470.000000        2\n",
            "3    Belgium              3032.714286        0\n",
            "4     Brazil              4389.000000        0 \n",
            "\n"
          ]
        }
      ]
    },
    {
      "cell_type": "code",
      "source": [
        "# 6. centroid -> tentukan posisi centroid dari setiap cluster\n",
        "centroids_kmeans = best_kmeans.cluster_centers_\n",
        "print(\"Posisi Centroid dari setiap cluster:\")\n",
        "print(centroids_kmeans, \"\\n\")"
      ],
      "metadata": {
        "colab": {
          "base_uri": "https://localhost:8080/"
        },
        "id": "Nb2bAx3bu0Id",
        "outputId": "5ccafdeb-5dd3-4721-c938-68d51089f9d3"
      },
      "execution_count": 24,
      "outputs": [
        {
          "output_type": "stream",
          "name": "stdout",
          "text": [
            "Posisi Centroid dari setiap cluster:\n",
            "[[3542.21952146]\n",
            " [6173.85081301]\n",
            " [1400.13034188]] \n",
            "\n"
          ]
        }
      ]
    },
    {
      "cell_type": "code",
      "source": [
        "# 7. sorted -> lakukan pengurutan posisi centroid secara ascending\n",
        "sorted_centroids_indices = np.argsort(centroids_kmeans.flatten())\n",
        "print(\"Indeks centroid setelah pengurutan secara ascending:\")\n",
        "print(sorted_centroids_indices, \"\\n\")"
      ],
      "metadata": {
        "colab": {
          "base_uri": "https://localhost:8080/"
        },
        "id": "WlZP-HYCvBjN",
        "outputId": "61def91d-0924-4866-9b4c-63a9cf3f9871"
      },
      "execution_count": 25,
      "outputs": [
        {
          "output_type": "stream",
          "name": "stdout",
          "text": [
            "Indeks centroid setelah pengurutan secara ascending:\n",
            "[2 0 1] \n",
            "\n"
          ]
        }
      ]
    },
    {
      "cell_type": "code",
      "source": [
        "# 8. Indeks terdepan dari centroid setelah pengurutan, mengindikasikan cluster transaksi rendah.\n",
        "# Indeks terakhir dari centroid setelah pengurutan, mengindikasikan cluster transaksi tinggi.\n",
        "# Indeks di antaranya, mengindikasikan cluster transaksi sedang. Tampilkan negara mana saja\n",
        "# yang transaksinya rendah, sedang dan tinggi.\n",
        "cluster_map = {sorted_centroids_indices[0]: 'Low',\n",
        "               sorted_centroids_indices[1]: 'Medium',\n",
        "               sorted_centroids_indices[2]: 'High'}\n",
        "\n",
        "df_clusters_kmeans['Transaction Level'] = df_clusters_kmeans['Cluster'].map(cluster_map)\n",
        "print(\"Negara dengan tingkat transaksi rendah, sedang, dan tinggi:\")\n",
        "print(df_clusters_kmeans[['Country', 'Avg_Qty_Per_Transaction', 'Transaction Level']], \"\\n\")"
      ],
      "metadata": {
        "colab": {
          "base_uri": "https://localhost:8080/"
        },
        "id": "Vv_aS9MgvHx9",
        "outputId": "f33c11a0-1590-4ef5-f299-98f0195043cb"
      },
      "execution_count": 26,
      "outputs": [
        {
          "output_type": "stream",
          "name": "stdout",
          "text": [
            "Negara dengan tingkat transaksi rendah, sedang, dan tinggi:\n",
            "                 Country  Avg_Qty_Per_Transaction Transaction Level\n",
            "0              Australia              4026.295455            Medium\n",
            "1                Austria              3420.250000            Medium\n",
            "2                Bahrain              1470.000000               Low\n",
            "3                Belgium              3032.714286            Medium\n",
            "4                 Brazil              4389.000000            Medium\n",
            "5                 Canada              6449.666667              High\n",
            "6        Channel Islands              4569.714286            Medium\n",
            "7                 Cyprus              3550.875000            Medium\n",
            "8         Czech Republic              1239.500000               Low\n",
            "9                Denmark              3018.888889            Medium\n",
            "10                  EIRE              3788.866071            Medium\n",
            "11    European Community               921.666667               Low\n",
            "12               Finland              3118.000000            Medium\n",
            "13                France              3197.549419            Medium\n",
            "14               Germany              3119.766578            Medium\n",
            "15                Greece              3473.000000            Medium\n",
            "16               Iceland              3267.666667            Medium\n",
            "17                Israel              7046.500000              High\n",
            "18                 Italy              3186.096774            Medium\n",
            "19                 Japan              3089.857143            Medium\n",
            "20               Lebanon              2836.000000            Medium\n",
            "21             Lithuania              2013.000000               Low\n",
            "22                 Malta              3758.500000            Medium\n",
            "23           Netherlands              4402.934211            Medium\n",
            "24                Norway              4679.107143            Medium\n",
            "25                Poland              2528.529412            Medium\n",
            "26              Portugal              4307.534884            Medium\n",
            "27                   RSA              6576.000000              High\n",
            "28          Saudi Arabia               592.000000               Low\n",
            "29             Singapore              6288.750000              High\n",
            "30                 Spain              4035.277778            Medium\n",
            "31                Sweden              2164.615385               Low\n",
            "32           Switzerland              5664.439024              High\n",
            "33                   USA              4994.600000              High\n",
            "34  United Arab Emirates              6197.000000              High\n",
            "35           Unspecified              2674.625000            Medium \n",
            "\n"
          ]
        }
      ]
    },
    {
      "cell_type": "code",
      "source": [
        "# 9. Visualisasi dengan warna yang berbeda untuk hasil cluster (no. 8), dimana sumbu x=urutan\n",
        "# country dan sumbu y=transaksi\n",
        "plt.figure(figsize=(10,6))\n",
        "colors = {'Low': 'blue', 'Medium': 'orange', 'High': 'green'}\n",
        "\n",
        "df_clusters_sorted = df_clusters_kmeans.sort_values(by='Country')\n",
        "\n",
        "for level in colors:\n",
        "    subset = df_clusters_sorted[df_clusters_sorted['Transaction Level'] == level]\n",
        "    plt.scatter(subset['Country'], subset['Avg_Qty_Per_Transaction'],\n",
        "                color=colors[level], label=level)\n",
        "\n",
        "plt.xlabel('Country')\n",
        "plt.ylabel('Average Quantity per Transaction')\n",
        "plt.title('Country Transactions Clustered by Average Quantity per Transaction')\n",
        "plt.xticks(rotation=90)\n",
        "\n",
        "plt.legend(title=\"Transaction Level\")\n",
        "plt.tight_layout()\n",
        "plt.show()"
      ],
      "metadata": {
        "colab": {
          "base_uri": "https://localhost:8080/",
          "height": 607
        },
        "id": "U92efsVevPFC",
        "outputId": "2cac75cb-bd7c-425b-db3e-d32c90219512"
      },
      "execution_count": 27,
      "outputs": [
        {
          "output_type": "display_data",
          "data": {
            "text/plain": [
              "<Figure size 1000x600 with 1 Axes>"
            ],
            "image/png": "[encoded data removed]"
          },
          "metadata": {}
        }
      ]
    }
  ]
}